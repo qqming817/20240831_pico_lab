{
 "cells": [
  {
   "cell_type": "code",
   "execution_count": 1,
   "metadata": {},
   "outputs": [
    {
     "name": "stdout",
     "output_type": "stream",
     "text": [
      "r\n",
      "a\n",
      "n\n",
      "g\n",
      "e\n"
     ]
    }
   ],
   "source": [
    "for i in 'range':\n",
    "    print(i)"
   ]
  },
  {
   "cell_type": "code",
   "execution_count": 4,
   "metadata": {},
   "outputs": [
    {
     "name": "stdout",
     "output_type": "stream",
     "text": [
      "10\n",
      "20\n",
      "30\n",
      "40\n",
      "50\n",
      "60\n",
      "70\n",
      "80\n",
      "90\n",
      "100\n"
     ]
    }
   ],
   "source": [
    "for i in range(10,101,10):\n",
    "    print(i)"
   ]
  },
  {
   "cell_type": "code",
   "execution_count": 5,
   "metadata": {},
   "outputs": [
    {
     "name": "stdout",
     "output_type": "stream",
     "text": [
      "輸入格式錯誤\n",
      "身高= 1 公分, 體重= 1 公斤\n",
      "BMI=0.9999\n",
      "體重過輕\n",
      "程式結束\n"
     ]
    }
   ],
   "source": [
    "while True:\n",
    "    kg = 0\n",
    "    cm = 0\n",
    "    try:\n",
    "        cm = int(input(\"請輸入身高(公分):\"))\n",
    "        if cm > 300:\n",
    "            raise Exception(\"超過300公分\")\n",
    "    except ValueError:\n",
    "        print(\"輸入格式錯誤\")\n",
    "        continue\n",
    "    except Exception as e:\n",
    "        print(f'輸入錯誤{cm}')\n",
    "        continue\n",
    "\n",
    "    try:\n",
    "        kg = int(input(\"請輸入身高(公分):\"))\n",
    "        if cm > 200:\n",
    "            raise Exception(\"超過200公斤\")\n",
    "    except ValueError:\n",
    "        print(\"輸入格式錯誤\")\n",
    "        continue\n",
    "    except Exception as e:\n",
    "        print(f'輸入錯誤{cm}')\n",
    "        continue\n",
    "\n",
    "    print(f'身高= {cm} 公分, 體重= {kg} 公斤')\n",
    "    cm = (cm / 100) * (cm / 100)\n",
    "    bmi = kg / cm\n",
    "    print(f'BMI={bmi}')\n",
    "    if bmi >= 35:\n",
    "        print(\"過度肥胖\")\n",
    "    if bmi >= 27:\n",
    "        print(\"中度肥胖\")\n",
    "    if bmi >= 24:\n",
    "        print(\"適度肥胖\")\n",
    "    if bmi >= 18.5:\n",
    "        print(\"正常肥胖\")\n",
    "    else:\n",
    "        print(\"體重過輕\")\n",
    "\n",
    "    paly_again = input(\"請問繼續嗎？(Y/N)：\")\n",
    "    if paly_again == \"N\":\n",
    "        break\n",
    "\n",
    "print(\"程式結束\")\n"
   ]
  }
 ],
 "metadata": {
  "kernelspec": {
   "display_name": "venv01",
   "language": "python",
   "name": "python3"
  },
  "language_info": {
   "codemirror_mode": {
    "name": "ipython",
    "version": 3
   },
   "file_extension": ".py",
   "mimetype": "text/x-python",
   "name": "python",
   "nbconvert_exporter": "python",
   "pygments_lexer": "ipython3",
   "version": "3.11.9"
  }
 },
 "nbformat": 4,
 "nbformat_minor": 2
}
